{
 "cells": [
  {
   "cell_type": "markdown",
   "metadata": {},
   "source": [
    "# <span style=\"color:black, font-size=40px\"> MERKEZİ EĞİLİM ÖLÇÜLERİ</span>"
   ]
  },
  {
   "cell_type": "markdown",
   "metadata": {},
   "source": [
    "# <span style=\"color:#76ABAE\"> Aritmetik Ortalama</span>"
   ]
  },
  {
   "cell_type": "code",
   "execution_count": null,
   "metadata": {},
   "outputs": [],
   "source": [
    "def aritmetik_ortalama():\n",
    "    girilecek_deger_sayisi=int(input(\"Girilecek deger sayisi: \"))\n",
    "    toplam=0\n",
    "    for i in range(girilecek_deger_sayisi):\n",
    "        sayi=int(input(\"Bir sayi giriniz: \"))\n",
    "        toplam+=sayi\n",
    "        sayilarin_toplami=toplam/girilecek_deger_sayisi\n",
    "    return sayilarin_toplami\n",
    "\n",
    "ar_ortalama=aritmetik_ortalama()\n",
    "print(\"Girdiginiz dizinin aritmetik ortalamasi: \",ar_ortalama)"
   ]
  },
  {
   "cell_type": "markdown",
   "metadata": {},
   "source": [
    "# <span style=\"color:#76ABAE\"> Medyan(Ortanca)</span>"
   ]
  },
  {
   "cell_type": "code",
   "execution_count": null,
   "metadata": {},
   "outputs": [],
   "source": [
    "def medyan():\n",
    "    sayilar=[]\n",
    "    girilecek_deger_sayisi=int(input(\"Girilecek deger sayisi: \"))\n",
    "    for i in range(girilecek_deger_sayisi):\n",
    "        sayi=int(input(\"Bir sayi giriniz: \"))\n",
    "        sayilar.append(sayi)\n",
    "    sayilar.sort()\n",
    "    if girilecek_deger_sayisi%2==0:\n",
    "        ilk_ortanca_terim=int(girilecek_deger_sayisi/2)-1\n",
    "        ikinci_ortanca_terim=int((girilecek_deger_sayisi/2)+1)-1\n",
    "        return (sayilar[ilk_ortanca_terim]+sayilar[ikinci_ortanca_terim])/2\n",
    "    else:\n",
    "        ortanca_terim=int((girilecek_deger_sayisi+1)/2)-1\n",
    "        return sayilar[ortanca_terim]\n",
    "ortanca=medyan()\n",
    "print(\"Girdiginiz dizinin medyani: \",ortanca)"
   ]
  },
  {
   "cell_type": "markdown",
   "metadata": {},
   "source": [
    "# <span style=\"color:#76ABAE\"> Mod(Tepe Değer)</span>"
   ]
  },
  {
   "cell_type": "code",
   "execution_count": null,
   "metadata": {},
   "outputs": [],
   "source": [
    "def mod():\n",
    "    sayilar=[]\n",
    "    girilecek_deger_sayisi=int(input(\"Girilecek deger sayisi: \"))\n",
    "    for i in range(girilecek_deger_sayisi):\n",
    "        sayi=input(\"Bir sayi giriniz: \")\n",
    "        sayilar.append(sayi)\n",
    "    frekans={}\n",
    "    for j in sayilar:\n",
    "        if j in frekans:\n",
    "            frekans[j]+=1\n",
    "        else:\n",
    "            frekans[j]=1\n",
    "    print(frekans)\n",
    "    tekrar=frekans\n",
    "    deger=list(tekrar.values())\n",
    "    ifade=list(tekrar.keys())\n",
    "    maksimum_ifade=ifade[deger.index(max(deger))]\n",
    "    return maksimum_ifade\n",
    "tepe_deger=mod()\n",
    "print(\"Girdiginiz dizinin modu: \",tepe_deger)\n",
    "    "
   ]
  },
  {
   "cell_type": "markdown",
   "metadata": {},
   "source": [
    "# <span style=\"color:#76ABAE\"> Kartiller</span>"
   ]
  },
  {
   "cell_type": "code",
   "execution_count": null,
   "metadata": {},
   "outputs": [],
   "source": [
    "def kartiller():\n",
    "    sayilar=[]\n",
    "    girilecek_deger_sayisi=int(input(\"Girilecek deger sayisi: \"))\n",
    "    if girilecek_deger_sayisi>3:\n",
    "        \n",
    "        for i in range(girilecek_deger_sayisi):\n",
    "            sayi=int(input(\"Bir sayi giriniz: \"))\n",
    "            sayilar.append(sayi)\n",
    "        sayilar.sort()\n",
    "        if girilecek_deger_sayisi%4==0:\n",
    "            q1_ilk=int((girilecek_deger_sayisi/4)-1)\n",
    "            q1_ikinci=int((girilecek_deger_sayisi/4))\n",
    "            q1=(sayilar[q1_ilk]+sayilar[q1_ikinci])/2\n",
    "        elif girilecek_deger_sayisi%4==1:\n",
    "            q1_ilk=int(((girilecek_deger_sayisi+1)/4)-1)\n",
    "            q1_ikinci=int((girilecek_deger_sayisi+1)/4)\n",
    "            q1=(sayilar[q1_ilk]+sayilar[q1_ikinci])/2\n",
    "        elif girilecek_deger_sayisi%4==2:\n",
    "            q1_ilk=int((girilecek_deger_sayisi)/4)\n",
    "            q1=sayilar[q1_ilk]\n",
    "        else:\n",
    "            q1_ilk=int((girilecek_deger_sayisi+1)/4)-1\n",
    "            q1=sayilar[q1_ilk]\n",
    "        \n",
    "        \n",
    "        if girilecek_deger_sayisi%4==0:\n",
    "            q2_ilk=int((girilecek_deger_sayisi/2)-1)\n",
    "            q2_ikinci=int((girilecek_deger_sayisi/2))\n",
    "            q2=(sayilar[q2_ilk]+sayilar[q2_ikinci])/2\n",
    "        elif girilecek_deger_sayisi%4==1:\n",
    "            q2_ilk=int(((girilecek_deger_sayisi+1)/2)-1)\n",
    "            q2=sayilar[q2_ilk]\n",
    "        elif girilecek_deger_sayisi%4==2:\n",
    "            q2_ilk=int((girilecek_deger_sayisi)/2)-1\n",
    "            q2_ikinci=int(girilecek_deger_sayisi/2)\n",
    "            q2=(sayilar[q2_ilk]+sayilar[q2_ikinci])/2\n",
    "        else:\n",
    "            q2_ilk=int((girilecek_deger_sayisi+1)/2)-1\n",
    "            q2=sayilar[q2_ilk]\n",
    "            \n",
    "        \n",
    "        if girilecek_deger_sayisi%4==0:\n",
    "            q3_ilk=int((3*girilecek_deger_sayisi)/4)-1\n",
    "            q3_ikinci=int((3*girilecek_deger_sayisi)/4)\n",
    "            q3=(sayilar[q3_ilk]+sayilar[q3_ikinci])/2\n",
    "        elif girilecek_deger_sayisi%4==1:\n",
    "            q3_ilk=int((3*(girilecek_deger_sayisi+1)/4)-1)\n",
    "            q3_ikinci=int(3*(girilecek_deger_sayisi+1)/4)\n",
    "            q3=(sayilar[q3_ilk]+sayilar[q3_ikinci])/2\n",
    "        elif girilecek_deger_sayisi%4==2:\n",
    "            q3_ilk=int(3*(girilecek_deger_sayisi)/4)\n",
    "            q3=sayilar[q3_ilk]\n",
    "        else:\n",
    "            q3_ilk=int(3*(girilecek_deger_sayisi+1)/4)-1\n",
    "            q3=sayilar[q3_ilk]\n",
    "        return q1,q2,q3\n",
    "    else:\n",
    "        \"3'ten büyük bir sayı giriniz\"\n",
    "kartil=kartiller()\n",
    "print(\"Girdiginiz dizinin kartilleri sirasiyla ilk ceyrek, ikinci ceyrek, ucuncu ceyrek: \",kartil)"
   ]
  }
 ],
 "metadata": {
  "kernelspec": {
   "display_name": "Python 3",
   "language": "python",
   "name": "python3"
  },
  "language_info": {
   "codemirror_mode": {
    "name": "ipython",
    "version": 3
   },
   "file_extension": ".py",
   "mimetype": "text/x-python",
   "name": "python",
   "nbconvert_exporter": "python",
   "pygments_lexer": "ipython3",
   "version": "3.8.5"
  }
 },
 "nbformat": 4,
 "nbformat_minor": 4
}
