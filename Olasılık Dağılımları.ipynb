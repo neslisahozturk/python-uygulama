{
 "cells": [
  {
   "cell_type": "markdown",
   "metadata": {},
   "source": [
    "# <span style=\"color:white\">OLASILIK DAĞILIMLARI</span>"
   ]
  },
  {
   "cell_type": "markdown",
   "metadata": {},
   "source": [
    "Not: Aşağıda yer alan fonksiyonlarda e ve pi sayısının yaklaşık değerleri kullanılmıştır. "
   ]
  },
  {
   "cell_type": "markdown",
   "metadata": {},
   "source": [
    "# <span style=\"color:#803D3B\">Bernoulli Dağılımı</span>"
   ]
  },
  {
   "cell_type": "markdown",
   "metadata": {},
   "source": [
    "${\\displaystyle f(x;p)=p^{x}(1-p)^{1-x}\\quad {\\text{for }}x\\in \\{0,1\\}}$\n",
    "\n",
    "\n",
    "${\\displaystyle \\operatorname {E} \\left(X\\right)=p}$\n",
    "\n",
    "$\\operatorname {Var} [X]=pq=p(1-p)$"
   ]
  },
  {
   "cell_type": "code",
   "execution_count": null,
   "metadata": {},
   "outputs": [],
   "source": [
    "def bernoulli_dagilimi():\n",
    "    x=int(input(\"0 ya da 1 giriniz: \"))\n",
    "    p=float(input(\"olasılık degerini giriniz: \"))\n",
    "    x_e_bagli_olasilik_dagilimi_fonksiyonu=(p**x)*((1-p)**(1-x))\n",
    "    beklenen_deger=p\n",
    "    varyans=p*(1-p)\n",
    "    return \"f(x;p)\",x_e_bagli_olasilik_dagilimi_fonksiyonu,\"E(X)\",beklenen_deger,\"Var[X]\",varyans\n",
    "bernoulli=bernoulli_dagilimi()\n",
    "print(bernoulli)"
   ]
  },
  {
   "cell_type": "markdown",
   "metadata": {},
   "source": [
    "# <span style=\"color:#803D3B\">Binom Dağılımı</span>"
   ]
  },
  {
   "cell_type": "markdown",
   "metadata": {},
   "source": [
    "${\\displaystyle f(x;n,p)={n \\choose x}p^{x}(1-p)^{n-x}}$, x = 0, 1, 2, ...,n\n",
    "\n",
    "\n",
    "${\\displaystyle \\operatorname {E} (X)=np}$\n",
    "\n",
    "\n",
    "${\\displaystyle \\operatorname {Var} (X)=np(1-p)}$"
   ]
  },
  {
   "cell_type": "code",
   "execution_count": 37,
   "metadata": {},
   "outputs": [],
   "source": [
    "def faktoriyel_alma(k):\n",
    "    sayi=1\n",
    "    if k<0:\n",
    "        print(\"negatif sayıların faktöriyellerini alamayız\")\n",
    "    elif k==1:\n",
    "        return 1\n",
    "    elif k==0:\n",
    "        return 1\n",
    "    else:\n",
    "        for i in range(1,k+1):\n",
    "           sayi=sayi*i\n",
    "        return sayi"
   ]
  },
  {
   "cell_type": "code",
   "execution_count": null,
   "metadata": {},
   "outputs": [],
   "source": [
    "def binom_dagilimi():\n",
    "    n=int(input(\"deneme sayısını giriniz:\"))\n",
    "    x=int(input(\"aranan degeri giriniz:\"))\n",
    "    p=float(input(\"olasılık degerini giriniz:\"))\n",
    "    x_e_bagli_olasilik_dagilimi_fonksiyonu=(faktoriyel_alma(n)/(faktoriyel_alma(x)*faktoriyel_alma(n-x)))*(p**x)*((1-p)**(n-x))\n",
    "    beklenen_deger=p*n\n",
    "    varyans=(n*p)*(1-p)\n",
    "    return \"f(x;n,p):\",x_e_bagli_olasilik_dagilimi_fonksiyonu,\"E(X)\",beklenen_deger,\"Var[X]\",varyans\n",
    "binom=binom_dagilimi()\n",
    "print(binom)"
   ]
  },
  {
   "cell_type": "markdown",
   "metadata": {},
   "source": [
    "# <span style=\"color:#803D3B\">Poisson Dağılımı</span>"
   ]
  },
  {
   "cell_type": "markdown",
   "metadata": {},
   "source": [
    "${\\displaystyle f(x,\\lambda )={\\frac {\\lambda ^{x}e^{-\\lambda }}{x!}}\\,\\!}$,  x = 0,1,2,...,n\n",
    "\n",
    "\n",
    "${\\displaystyle \\operatorname {E} (X)=\\lambda}$\n",
    "\n",
    "\n",
    "${\\displaystyle \\operatorname {Var} (X)=\\lambda}$"
   ]
  },
  {
   "cell_type": "code",
   "execution_count": null,
   "metadata": {},
   "outputs": [],
   "source": [
    "def poisson_dagilimi():\n",
    "    e= 2.718281828 #Euler sayısının ilk 10 basamağı\n",
    "    lambda_=float(input(\"beklenen değerin ortalama gerçekleşme sayısını giriniz:\"))\n",
    "    x=int(input(\"aranan degeri giriniz:\"))\n",
    "    x_e_bagli_olasilik_dagilimi_fonksiyonu=((lambda_**x)*(1/e**((lambda_))))/faktoriyel_alma(x)\n",
    "    beklenen_deger=lambda_\n",
    "    varyans=lambda_\n",
    "    return \"f(x,lambda):\",x_e_bagli_olasilik_dagilimi_fonksiyonu,\"E(X)\",beklenen_deger,\"Var[X]\",varyans\n",
    "poisson=poisson_dagilimi()\n",
    "print(poisson)"
   ]
  },
  {
   "cell_type": "markdown",
   "metadata": {},
   "source": [
    "# <span style=\"color:#803D3B\">Normal Dağılım</span>"
   ]
  },
  {
   "cell_type": "markdown",
   "metadata": {},
   "source": [
    "${\\displaystyle f(x\\mid \\mu ,\\sigma ^{2})={\\frac {1}{\\sqrt {2\\pi \\sigma ^{2}}}}e^{-{\\frac {(x-\\mu )^{2}}{2\\sigma ^{2}}}}}$\n",
    "\n",
    "${\\displaystyle \\operatorname {E} (X)=\\mu}$\n",
    "\n",
    "${\\displaystyle \\operatorname {Var} (X)=\\sigma ^{2}}$"
   ]
  },
  {
   "cell_type": "code",
   "execution_count": null,
   "metadata": {},
   "outputs": [],
   "source": [
    " def normal_dagilim():\n",
    "    e= 2.718281828 #Euler sayısının ilk 10 basamağı\n",
    "    pi=3.141592653 #pi sayısının ilk 10 basamağı    \n",
    "    x=int(input(\"aranan degeri giriniz:\"))\n",
    "    mu=float(input(\"ortlamayı giriniz:\"))\n",
    "    sigma_kare=float(input(\"varyansı giriniz:\"))\n",
    "    x_e_bagli_olasilik_dagilimi_fonksiyonu=(1/((2*pi*sigma_kare)**(1/2)))*(e**((-1)*(((x-mu)**(2))/(2*sigma_kare))))\n",
    "    beklenen_deger=mu\n",
    "    varyans=sigma_kare\n",
    "    return \"f(x,lambda):\",x_e_bagli_olasilik_dagilimi_fonksiyonu,\"E(X)\",beklenen_deger,\"Var[X]\",varyans\n",
    "normal=normal_dagilim()\n",
    "print(normal)"
   ]
  }
 ],
 "metadata": {
  "kernelspec": {
   "display_name": "Python 3",
   "language": "python",
   "name": "python3"
  },
  "language_info": {
   "codemirror_mode": {
    "name": "ipython",
    "version": 3
   },
   "file_extension": ".py",
   "mimetype": "text/x-python",
   "name": "python",
   "nbconvert_exporter": "python",
   "pygments_lexer": "ipython3",
   "version": "3.8.5"
  }
 },
 "nbformat": 4,
 "nbformat_minor": 4
}
