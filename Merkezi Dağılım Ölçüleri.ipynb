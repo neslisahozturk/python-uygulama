{
 "cells": [
  {
   "cell_type": "markdown",
   "metadata": {},
   "source": [
    "# <span style=\"color:white\">MERKEZİ DAĞILIM ÖLÇÜLERİ</span>"
   ]
  },
  {
   "cell_type": "markdown",
   "metadata": {},
   "source": [
    "# <span style=\"color:#606c38\">Değişim Aralığı</span>"
   ]
  },
  {
   "cell_type": "code",
   "execution_count": null,
   "metadata": {},
   "outputs": [],
   "source": [
    "def degisim_araligi():\n",
    "    girilecek_deger_sayisi=int(input(\"Girilecek deger sayisi: \"))\n",
    "    sayilar=[]\n",
    "    for i in range(girilecek_deger_sayisi):\n",
    "        sayi=int(input(\"Bir sayı giriniz: \"))\n",
    "        sayilar.append(sayi)\n",
    "    aralik=max(sayilar)-min(sayilar)\n",
    "    return aralik\n",
    "deg_araligi=degisim_araligi()\n",
    "print(deg_araligi)"
   ]
  },
  {
   "cell_type": "markdown",
   "metadata": {},
   "source": [
    "# <span style=\"color:#606c38\">Standart Sapma</span>"
   ]
  },
  {
   "cell_type": "code",
   "execution_count": null,
   "metadata": {},
   "outputs": [],
   "source": [
    "def standart_sapma():\n",
    "    girilecek_deger_sayisi=int(input(\"Girilecek deger sayisi: \"))\n",
    "    sayilar=[]\n",
    "    toplam=0\n",
    "    uzaklik_toplami=0\n",
    "    \n",
    "    for i in range(girilecek_deger_sayisi):\n",
    "        sayi=int(input(\"Bir sayi giriniz: \"))\n",
    "        sayilar.append(sayi)\n",
    "        toplam+=sayi\n",
    "        sayilarin_ortalamasi=toplam/girilecek_deger_sayisi\n",
    "    ortalamaya_olan_uzaklik=[(x-sayilarin_ortalamasi)**2 for x in sayilar]\n",
    "    for i in range(0,len(ortalamaya_olan_uzaklik)):\n",
    "        uzaklik_toplami+=ortalamaya_olan_uzaklik[i]\n",
    "    sapma_orani=(uzaklik_toplami/girilecek_deger_sayisi)**0.5\n",
    "    return sapma_orani\n",
    "ss=standart_sapma()\n",
    "print(ss)"
   ]
  },
  {
   "cell_type": "markdown",
   "metadata": {},
   "source": [
    "#  <span style=\"color:#606c38\">Varyans</span>"
   ]
  },
  {
   "cell_type": "code",
   "execution_count": null,
   "metadata": {},
   "outputs": [],
   "source": [
    "def varyans():\n",
    "    girilecek_deger_sayisi=int(input(\"Girilecek deger sayisi: \"))\n",
    "    sayilar=[]\n",
    "    toplam=0\n",
    "    uzaklik_toplami=0\n",
    "    \n",
    "    for i in range(girilecek_deger_sayisi):\n",
    "        sayi=int(input(\"Bir sayi giriniz: \"))\n",
    "        sayilar.append(sayi)\n",
    "        toplam+=sayi\n",
    "        sayilarin_ortalamasi=toplam/girilecek_deger_sayisi\n",
    "    ortalamaya_olan_uzaklik=[(x-sayilarin_ortalamasi)**2 for x in sayilar]\n",
    "    for i in range(0,len(ortalamaya_olan_uzaklik)):\n",
    "        uzaklik_toplami+=ortalamaya_olan_uzaklik[i]\n",
    "    sapma_oraninin_karesi=uzaklik_toplami/girilecek_deger_sayisi\n",
    "    return sapma_oraninin_karesi\n",
    "vryns=varyans()\n",
    "print(vryns)"
   ]
  },
  {
   "cell_type": "markdown",
   "metadata": {},
   "source": [
    "# <span style=\"color:#606c38\">Çarpıklık</span>"
   ]
  },
  {
   "cell_type": "code",
   "execution_count": null,
   "metadata": {},
   "outputs": [],
   "source": [
    "def carpiklik():\n",
    "    girilecek_deger_sayisi=int(input(\"Girilecek deger sayisi: \"))\n",
    "    sayilar=[]\n",
    "    toplam=0\n",
    "    uzaklik_toplami=0\n",
    "    \n",
    "    for i in range(girilecek_deger_sayisi):\n",
    "        sayi=int(input(\"Bir sayi giriniz: \"))\n",
    "        sayilar.append(sayi)\n",
    "        toplam+=sayi\n",
    "        sayilarin_ortalamasi=toplam/girilecek_deger_sayisi\n",
    "    ortalamaya_olan_uzaklik=[(x-sayilarin_ortalamasi)**2 for x in sayilar]\n",
    "    for i in range(0,len(ortalamaya_olan_uzaklik)):\n",
    "        uzaklik_toplami+=ortalamaya_olan_uzaklik[i]\n",
    "    sapma_orani=(uzaklik_toplami/girilecek_deger_sayisi)**0.5\n",
    "    \n",
    "    if girilecek_deger_sayisi%2==0:\n",
    "        ilk_ortanca_terim=int(girilecek_deger_sayisi/2)-1\n",
    "        ikinci_ortanca_terim=int((girilecek_deger_sayisi/2)+1)-1\n",
    "        medyan=(sayilar[ilk_ortanca_terim]+sayilar[ikinci_ortanca_terim])/2\n",
    "    else:\n",
    "        ortanca_terim=int((girilecek_deger_sayisi+1)/2)-1\n",
    "        medyan=sayilar[ortanca_terim]\n",
    "    pearson_katsayisi=3*(sayilarin_ortalamasi-medyan)/sapma_orani\n",
    "    print(\"Pearson carpiklik katsayisi: \",pearson_katsayisi)\n",
    "    if pearson_katsayisi==0:\n",
    "        return \"Girdiginiz dizi simetriktir. \"\n",
    "    elif pearson_katsayisi<0:\n",
    "        return \"Girdiginiz dizi negatif yani soldan carpiktir.\"\n",
    "    else:\n",
    "        return \"Girdiginiz dizi pozitif yani sagdan carpiktir.\"\n",
    "carpik=carpiklik()\n",
    "print(carpik)"
   ]
  },
  {
   "cell_type": "markdown",
   "metadata": {},
   "source": [
    "# <span style=\"color:#606c38\">Basıklık</span>"
   ]
  },
  {
   "cell_type": "code",
   "execution_count": null,
   "metadata": {},
   "outputs": [],
   "source": [
    "def basiklik():\n",
    "    girilecek_deger_sayisi=int(input(\"Girilecek deger sayisi: \"))\n",
    "    sayilar=[]\n",
    "    toplam=0\n",
    "    uzaklik_toplami=0\n",
    "    moment_toplami=0\n",
    "    \n",
    "    for i in range(girilecek_deger_sayisi):\n",
    "        sayi=int(input(\"Bir sayi giriniz: \"))\n",
    "        sayilar.append(sayi)\n",
    "        toplam+=sayi\n",
    "        sayilarin_ortalamasi=toplam/girilecek_deger_sayisi\n",
    "    ortalamaya_olan_uzaklik=[(x-sayilarin_ortalamasi)**2 for x in sayilar]\n",
    "    moment_icin_uzaklik=[(x-sayilarin_ortalamasi)**4 for x in sayilar]\n",
    "    for i in range(0,len(ortalamaya_olan_uzaklik)):\n",
    "        uzaklik_toplami+=ortalamaya_olan_uzaklik[i]\n",
    "    for i in range(0,len(moment_icin_uzaklik)):\n",
    "        moment_toplami+=moment_icin_uzaklik[i]\n",
    "    sapma_orani=(uzaklik_toplami/girilecek_deger_sayisi)**0.5\n",
    "    moment=moment_toplami/girilecek_deger_sayisi\n",
    "    basiklik_katsayisi=moment/(sapma_orani**4)\n",
    "    print(\"Basiklik katsayisi: \",basiklik_katsayisi)\n",
    "    if basiklik_katsayisi==3:\n",
    "        return \"Girdiginiz dizi standart normal dagılıma uygundur.\"\n",
    "    elif basiklik_katsayisi>3:\n",
    "        return \"Girdiginiz dizinin dagılımı sivridir.\"\n",
    "    else:\n",
    "        return \"Girdiginiz dizinin dagılımı basiktir.\"\n",
    "basik=basiklik()\n",
    "print(basik)"
   ]
  }
 ],
 "metadata": {
  "kernelspec": {
   "display_name": "Python 3",
   "language": "python",
   "name": "python3"
  },
  "language_info": {
   "codemirror_mode": {
    "name": "ipython",
    "version": 3
   },
   "file_extension": ".py",
   "mimetype": "text/x-python",
   "name": "python",
   "nbconvert_exporter": "python",
   "pygments_lexer": "ipython3",
   "version": "3.8.5"
  }
 },
 "nbformat": 4,
 "nbformat_minor": 4
}
